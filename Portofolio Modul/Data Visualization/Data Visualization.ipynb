{
 "cells": [
  {
   "cell_type": "markdown",
   "metadata": {},
   "source": [
    "In this file, we will try most of the way to present data using graphical method."
   ]
  },
  {
   "cell_type": "markdown",
   "metadata": {},
   "source": [
    "For this purpose, we will use player's data from 2021 FIDE Chess.com Grand Swiss tournament. Here is the preview of the file (.xlsx), downloaded from chess-results.com:\n",
    "\n",
    "<img src=\"chess_data_excel.png\" style=\"width: 600px\">"
   ]
  },
  {
   "cell_type": "markdown",
   "metadata": {},
   "source": [
    "Notice that we want to import the data, but:\n",
    "- Skip column A and B\n",
    "- Skip the first four rows\n",
    "- Skip the last three rows (need to check the .xlsx first)\n",
    "\n",
    "All of this restriction will be inserted in our code below."
   ]
  },
  {
   "cell_type": "markdown",
   "metadata": {},
   "source": [
    "As a general tip, use `help(command/function)` to get the documentation (description, parameter, input, output, or even examples) of the aforementioned command/function."
   ]
  },
  {
   "cell_type": "code",
   "execution_count": 2,
   "metadata": {},
   "outputs": [],
   "source": [
    "import pandas as pd\n",
    "import matplotlib.pyplot as plt"
   ]
  },
  {
   "cell_type": "code",
   "execution_count": 3,
   "metadata": {},
   "outputs": [
    {
     "name": "stdout",
     "output_type": "stream",
     "text": [
      "Help on function head in module pandas.core.generic:\n",
      "\n",
      "head(self: 'FrameOrSeries', n: 'int' = 5) -> 'FrameOrSeries'\n",
      "    Return the first `n` rows.\n",
      "    \n",
      "    This function returns the first `n` rows for the object based\n",
      "    on position. It is useful for quickly testing if your object\n",
      "    has the right type of data in it.\n",
      "    \n",
      "    For negative values of `n`, this function returns all rows except\n",
      "    the last `n` rows, equivalent to ``df[:-n]``.\n",
      "    \n",
      "    Parameters\n",
      "    ----------\n",
      "    n : int, default 5\n",
      "        Number of rows to select.\n",
      "    \n",
      "    Returns\n",
      "    -------\n",
      "    same type as caller\n",
      "        The first `n` rows of the caller object.\n",
      "    \n",
      "    See Also\n",
      "    --------\n",
      "    DataFrame.tail: Returns the last `n` rows.\n",
      "    \n",
      "    Examples\n",
      "    --------\n",
      "    >>> df = pd.DataFrame({'animal': ['alligator', 'bee', 'falcon', 'lion',\n",
      "    ...                    'monkey', 'parrot', 'shark', 'whale', 'zebra']})\n",
      "    >>> df\n",
      "          animal\n",
      "    0  alligator\n",
      "    1        bee\n",
      "    2     falcon\n",
      "    3       lion\n",
      "    4     monkey\n",
      "    5     parrot\n",
      "    6      shark\n",
      "    7      whale\n",
      "    8      zebra\n",
      "    \n",
      "    Viewing the first 5 lines\n",
      "    \n",
      "    >>> df.head()\n",
      "          animal\n",
      "    0  alligator\n",
      "    1        bee\n",
      "    2     falcon\n",
      "    3       lion\n",
      "    4     monkey\n",
      "    \n",
      "    Viewing the first `n` lines (three in this case)\n",
      "    \n",
      "    >>> df.head(3)\n",
      "          animal\n",
      "    0  alligator\n",
      "    1        bee\n",
      "    2     falcon\n",
      "    \n",
      "    For negative values of `n`\n",
      "    \n",
      "    >>> df.head(-3)\n",
      "          animal\n",
      "    0  alligator\n",
      "    1        bee\n",
      "    2     falcon\n",
      "    3       lion\n",
      "    4     monkey\n",
      "    5     parrot\n",
      "\n"
     ]
    }
   ],
   "source": [
    "# Example of help\n",
    "help(pd.DataFrame.head)"
   ]
  },
  {
   "cell_type": "markdown",
   "metadata": {},
   "source": [
    "Now, we will import the data using the following command:"
   ]
  },
  {
   "cell_type": "code",
   "execution_count": 4,
   "metadata": {},
   "outputs": [
    {
     "name": "stdout",
     "output_type": "stream",
     "text": [
      "  Unnamed: 2                     Name    FideID  FED   Rtg\n",
      "0         GM         Caruana Fabiano    2020009  USA  2800\n",
      "1         GM           Aronian Levon   13300474  ARM  2782\n",
      "2         GM        Firouzja Alireza   12573981  FRA  2770\n",
      "3         GM  Vachier-Lagrave Maxime     623539  FRA  2763\n",
      "4         GM         Vitiugov Nikita    4152956  RUS  2727\n",
      "  Title                     Name    FideID  FED   Rtg\n",
      "0    GM         Caruana Fabiano    2020009  USA  2800\n",
      "1    GM           Aronian Levon   13300474  ARM  2782\n",
      "2    GM        Firouzja Alireza   12573981  FRA  2770\n",
      "3    GM  Vachier-Lagrave Maxime     623539  FRA  2763\n",
      "4    GM         Vitiugov Nikita    4152956  RUS  2727\n"
     ]
    }
   ],
   "source": [
    "# Import data from excel file (.xlsx) under the following conditions:\n",
    "# - Skip column A and B ('usecols')\n",
    "# - Skip the first four rows ('skiprows')\n",
    "# - Skip the last three rows ('skipfooter')\n",
    "player_data = pd.read_excel('playerData.xlsx', 'Sheet1', usecols=\"C:G\", skiprows=4, skipfooter=3)\n",
    "print(player_data.head())\n",
    "\n",
    "# Change the header of the third column from the left to 'Title'\n",
    "player_data = player_data.rename(columns={\"Unnamed: 2\": \"Title\"})\n",
    "print(player_data.head())"
   ]
  },
  {
   "cell_type": "markdown",
   "metadata": {},
   "source": [
    "Don't forget to check data type for each column using `.dtypes`"
   ]
  },
  {
   "cell_type": "code",
   "execution_count": 6,
   "metadata": {},
   "outputs": [
    {
     "data": {
      "text/plain": [
       "Title     object\n",
       "Name      object\n",
       "FideID     int64\n",
       "FED       object\n",
       "Rtg        int64\n",
       "dtype: object"
      ]
     },
     "execution_count": 6,
     "metadata": {},
     "output_type": "execute_result"
    }
   ],
   "source": [
    "player_data.dtypes"
   ]
  },
  {
   "cell_type": "markdown",
   "metadata": {},
   "source": [
    "### 1. Bar Charts"
   ]
  },
  {
   "cell_type": "markdown",
   "metadata": {},
   "source": [
    "Suppose that we wanted to know how many players come from every chess federation / country. "
   ]
  },
  {
   "cell_type": "markdown",
   "metadata": {},
   "source": [
    "First, we need to count how many players are in each federation. This can be done using `value_counts()`.\n",
    "\n",
    "But we need to specify which column that we want to analyse. For this, we use `player_data[\"FED\"]`.\n",
    "\n",
    "Thus:"
   ]
  },
  {
   "cell_type": "code",
   "execution_count": 7,
   "metadata": {},
   "outputs": [
    {
     "name": "stdout",
     "output_type": "stream",
     "text": [
      "RUS    22\n",
      "IND    10\n",
      "UKR     9\n",
      "ARM     7\n",
      "USA     5\n",
      "Name: FED, dtype: int64\n"
     ]
    }
   ],
   "source": [
    "# Count players in each federation\n",
    "player_data[\"FED\"].value_counts()\n",
    "\n",
    "# Show five first federation\n",
    "print(player_data[\"FED\"].value_counts()[:5])"
   ]
  },
  {
   "cell_type": "markdown",
   "metadata": {},
   "source": [
    "For plotting, we will use `matplotlib.pyplot`. Specifically we will use `plt.subplots()` to generate our figure and its axis.\n",
    "\n",
    "In short, here is the way to plot using bar chart:"
   ]
  },
  {
   "cell_type": "code",
   "execution_count": 8,
   "metadata": {},
   "outputs": [
    {
     "data": {
      "text/plain": [
       "<AxesSubplot:title={'center':'Amount of players in every federation'}>"
      ]
     },
     "execution_count": 8,
     "metadata": {},
     "output_type": "execute_result"
    },
    {
     "data": {
      "image/png": "[encoded data removed]",
      "text/plain": [
       "<Figure size 432x288 with 1 Axes>"
      ]
     },
     "metadata": {
      "needs_background": "light"
     },
     "output_type": "display_data"
    }
   ],
   "source": [
    "# Plot amount of players on every federation\n",
    "fig, ax = plt.subplots()\n",
    "player_data[\"FED\"].value_counts().plot(ax=ax, kind='bar', title=\"Amount of players in every federation\")"
   ]
  },
  {
   "cell_type": "markdown",
   "metadata": {},
   "source": [
    "As can be seen above, the chart is very dense. There are several ways to fix this issue:\n",
    "1. Using different chart size (make it wider)\n",
    "2. Only show federation with high value"
   ]
  },
  {
   "cell_type": "code",
   "execution_count": 9,
   "metadata": {},
   "outputs": [
    {
     "data": {
      "text/plain": [
       "<AxesSubplot:title={'center':'Amount of players in every federation'}>"
      ]
     },
     "execution_count": 9,
     "metadata": {},
     "output_type": "execute_result"
    },
    {
     "data": {
      "image/png": "[encoded data removed]",
      "text/plain": [
       "<Figure size 1080x216 with 1 Axes>"
      ]
     },
     "metadata": {
      "needs_background": "light"
     },
     "output_type": "display_data"
    }
   ],
   "source": [
    "# Change plot size\n",
    "fig, ax = plt.subplots(figsize=(15, 3))\n",
    "player_data[\"FED\"].value_counts().plot(ax=ax, kind='bar', title=\"Amount of players in every federation\")"
   ]
  },
  {
   "cell_type": "code",
   "execution_count": 10,
   "metadata": {},
   "outputs": [
    {
     "data": {
      "text/plain": [
       "<AxesSubplot:title={'center':'Amount of players on 10 federations with\\n the most players in 2021 FIDE Grand Swiss'}>"
      ]
     },
     "execution_count": 10,
     "metadata": {},
     "output_type": "execute_result"
    },
    {
     "data": {
      "image/png": "[encoded data removed]",
      "text/plain": [
       "<Figure size 432x288 with 1 Axes>"
      ]
     },
     "metadata": {
      "needs_background": "light"
     },
     "output_type": "display_data"
    }
   ],
   "source": [
    "# Only shows top 10 value\n",
    "fig, ax = plt.subplots()\n",
    "player_data[\"FED\"].value_counts()[:10].plot(ax=ax, kind='bar', title=\"Amount of players on 10 federations with\\n the most players in 2021 FIDE Grand Swiss\")\n",
    "# Because 'player_data[\"FED\"].value_counts()' is a list, we can pick 10 highest value using traditional \n",
    "#   list method."
   ]
  },
  {
   "cell_type": "markdown",
   "metadata": {},
   "source": [
    "Disadvantages of changing chart's size are:\n",
    "- More unique value = wider figure\n",
    "- Chart will be hard to be presented, especially on wider figure\n",
    "- y-value difference looks smaller than it should be\n",
    "\n",
    "Disadvantage of decreasing the amount of items shown:\n",
    "- Data is not completely shown (by voiding it entirely or collectively shown under new initial like 'etc', 'misc', etc.)"
   ]
  },
  {
   "cell_type": "markdown",
   "metadata": {},
   "source": [
    "### 2. Histogram"
   ]
  },
  {
   "cell_type": "markdown",
   "metadata": {},
   "source": [
    "Histogram is similar with bar chart. The only difference is in its x-axis.\n",
    "\n",
    "While bar chart can use categorical data for its x-axis (e.g. Federation, Title), histogram uses numerical continuous data (e.g. Rating, Age, or Score)."
   ]
  },
  {
   "cell_type": "markdown",
   "metadata": {},
   "source": [
    "For this example, suppose that we want to plot player's rating using this chart."
   ]
  },
  {
   "cell_type": "markdown",
   "metadata": {},
   "source": [
    "(1)\n",
    "\n",
    "The easiest way to do it is to use `.hist(col)`, with `col` is the name of the column we want to show. This can be done only when our data is a `DataFrame`."
   ]
  },
  {
   "cell_type": "code",
   "execution_count": 11,
   "metadata": {},
   "outputs": [
    {
     "data": {
      "text/plain": [
       "array([[<AxesSubplot:title={'center':'Rtg'}>]], dtype=object)"
      ]
     },
     "execution_count": 11,
     "metadata": {},
     "output_type": "execute_result"
    },
    {
     "data": {
      "image/png": "[encoded data removed]",
      "text/plain": [
       "<Figure size 432x288 with 1 Axes>"
      ]
     },
     "metadata": {
      "needs_background": "light"
     },
     "output_type": "display_data"
    },
    {
     "data": {
      "image/png": "[encoded data removed]",
      "text/plain": [
       "<Figure size 432x288 with 1 Axes>"
      ]
     },
     "metadata": {
      "needs_background": "light"
     },
     "output_type": "display_data"
    },
    {
     "data": {
      "image/png": "[encoded data removed]",
      "text/plain": [
       "<Figure size 432x288 with 1 Axes>"
      ]
     },
     "metadata": {
      "needs_background": "light"
     },
     "output_type": "display_data"
    }
   ],
   "source": [
    "player_data.hist('Rtg')\n",
    "\n",
    "# Divided by every 50 ratings, from 2450 to 2800\n",
    "player_data.hist('Rtg', bins=[x for x in range(2450, 2850, 50)])\n",
    "\n",
    "# Divided by every 25 ratings, from 2450 to 2800\n",
    "player_data.hist('Rtg', bins=[x for x in range(2450, 2825, 25)])"
   ]
  },
  {
   "cell_type": "markdown",
   "metadata": {},
   "source": [
    "Another way to present the data using histogram is to use matplotlib's bar (similar with the first section). Unfortunately, this way is a bit more complicated than the previous one. One reason this may be done is if the data can't be converted to a `DataFrame`.\n",
    "\n",
    "To accommodate the bin/buckets (or list of range) of our data, we need another a class called `Counter` under `collections` library"
   ]
  },
  {
   "cell_type": "code",
   "execution_count": 27,
   "metadata": {},
   "outputs": [
    {
     "data": {
      "image/png": "[encoded data removed]",
      "text/plain": [
       "<Figure size 432x288 with 1 Axes>"
      ]
     },
     "metadata": {
      "needs_background": "light"
     },
     "output_type": "display_data"
    }
   ],
   "source": [
    "from collections import Counter\n",
    "\n",
    "# Generate histogram bin (or list of range)\n",
    "his_bins = Counter(min(rating // 50 * 50, 2750) for rating in player_data[\"Rtg\"])\n",
    "\n",
    "fig, ax = plt.subplots()\n",
    "\n",
    "ax.bar(x=[x+25 for x in his_bins],\n",
    "       height=his_bins.values(),\n",
    "       width=50,\n",
    "       edgecolor=(0, 0, 0))\n",
    "\n",
    "ax.axis([2425, 2825, 0, 50])\n",
    "\n",
    "# Other\n",
    "plt.xticks([i for i in range(2450, 2850, 50)])\n",
    "plt.xlabel(\"Rating\")\n",
    "plt.ylabel(\"# of players\")\n",
    "plt.title(\"Distribution of player's rating\")\n",
    "plt.show()\n"
   ]
  }
 ],
 "metadata": {
  "interpreter": {
   "hash": "341721dacaf7cfb9fee4e04b297b3b32e40ca54b628f5e3596801dd499b24476"
  },
  "kernelspec": {
   "display_name": "Python 3.8.10 64-bit",
   "language": "python",
   "name": "python3"
  },
  "language_info": {
   "codemirror_mode": {
    "name": "ipython",
    "version": 3
   },
   "file_extension": ".py",
   "mimetype": "text/x-python",
   "name": "python",
   "nbconvert_exporter": "python",
   "pygments_lexer": "ipython3",
   "version": "3.8.10"
  },
  "orig_nbformat": 4
 },
 "nbformat": 4,
 "nbformat_minor": 2
}
